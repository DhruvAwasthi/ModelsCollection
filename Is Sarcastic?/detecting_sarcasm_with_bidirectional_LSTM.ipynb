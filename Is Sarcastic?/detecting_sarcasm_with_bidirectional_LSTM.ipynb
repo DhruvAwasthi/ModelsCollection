{
  "nbformat": 4,
  "nbformat_minor": 0,
  "metadata": {
    "accelerator": "TPU",
    "colab": {
      "name": "detecting_sarcasm_with_bidirectional_LSTM.ipynb",
      "provenance": [],
      "collapsed_sections": [],
      "toc_visible": true
    },
    "kernelspec": {
      "display_name": "Python 3",
      "language": "python",
      "name": "python3"
    },
    "language_info": {
      "codemirror_mode": {
        "name": "ipython",
        "version": 3
      },
      "file_extension": ".py",
      "mimetype": "text/x-python",
      "name": "python",
      "nbconvert_exporter": "python",
      "pygments_lexer": "ipython3",
      "version": "3.7.6"
    }
  },
  "cells": [
    {
      "cell_type": "code",
      "metadata": {
        "colab_type": "code",
        "id": "zX4Kg8DUTKWO",
        "colab": {}
      },
      "source": [
        "#@title Licensed under the Apache License, Version 2.0 (the \"License\");\n",
        "# you may not use this file except in compliance with the License.\n",
        "# You may obtain a copy of the License at\n",
        "#\n",
        "# https://www.apache.org/licenses/LICENSE-2.0\n",
        "#\n",
        "# Unless required by applicable law or agreed to in writing, software\n",
        "# distributed under the License is distributed on an \"AS IS\" BASIS,\n",
        "# WITHOUT WARRANTIES OR CONDITIONS OF ANY KIND, either express or implied.\n",
        "# See the License for the specific language governing permissions and\n",
        "# limitations under the License."
      ],
      "execution_count": 0,
      "outputs": []
    },
    {
      "cell_type": "code",
      "metadata": {
        "colab_type": "code",
        "id": "jGwXGIXvFhXW",
        "colab": {
          "base_uri": "https://localhost:8080/",
          "height": 1000
        },
        "outputId": "3e75ce58-cd58-4c85-e93d-2903e3877af6"
      },
      "source": [
        "import json\n",
        "import tensorflow as tf\n",
        "import numpy as np\n",
        "\n",
        "from tensorflow.keras.preprocessing.text import Tokenizer\n",
        "from tensorflow.keras.preprocessing.sequence import pad_sequences\n",
        "\n",
        "!wget --no-check-certificate \\\n",
        "    https://storage.googleapis.com/laurencemoroney-blog.appspot.com/sarcasm.json \\\n",
        "    -O ./sarcasm.json\n",
        "\n",
        "vocab_size = 1000\n",
        "embedding_dim = 16\n",
        "max_length = 120\n",
        "trunc_type='post'\n",
        "padding_type='post'\n",
        "oov_tok = \"<OOV>\"\n",
        "training_size = 20000\n",
        "\n",
        "\n",
        "with open(\"./sarcasm.json\", 'r') as f:\n",
        "    datastore = json.load(f)\n",
        "\n",
        "\n",
        "sentences = []\n",
        "labels = []\n",
        "urls = []\n",
        "for item in datastore:\n",
        "    sentences.append(item['headline'])\n",
        "    labels.append(item['is_sarcastic'])\n",
        "\n",
        "training_sentences = sentences[0:training_size]\n",
        "testing_sentences = sentences[training_size:]\n",
        "training_labels = labels[0:training_size]\n",
        "testing_labels = labels[training_size:]\n",
        "\n",
        "tokenizer = Tokenizer(num_words=vocab_size, oov_token=oov_tok)\n",
        "tokenizer.fit_on_texts(training_sentences)\n",
        "\n",
        "word_index = tokenizer.word_index\n",
        "\n",
        "training_sequences = tokenizer.texts_to_sequences(training_sentences)\n",
        "training_padded = pad_sequences(training_sequences, maxlen=max_length, padding=padding_type, truncating=trunc_type)\n",
        "\n",
        "testing_sequences = tokenizer.texts_to_sequences(testing_sentences)\n",
        "testing_padded = pad_sequences(testing_sequences, maxlen=max_length, padding=padding_type, truncating=trunc_type)\n",
        "\n",
        "model = tf.keras.Sequential([\n",
        "    tf.keras.layers.Embedding(vocab_size, embedding_dim, input_length=max_length),\n",
        "    tf.keras.layers.Bidirectional(tf.keras.layers.LSTM(32)),\n",
        "    tf.keras.layers.Dense(24, activation='relu'),\n",
        "    tf.keras.layers.Dense(1, activation='sigmoid')\n",
        "])\n",
        "model.compile(loss='binary_crossentropy',optimizer='adam',metrics=['accuracy'])\n",
        "model.summary()\n",
        "\n",
        "num_epochs = 50\n",
        "training_padded = np.array(training_padded)\n",
        "training_labels = np.array(training_labels)\n",
        "testing_padded = np.array(testing_padded)\n",
        "testing_labels = np.array(testing_labels)\n",
        "history = model.fit(training_padded, training_labels, epochs=num_epochs, validation_data=(testing_padded, testing_labels), verbose=1)\n"
      ],
      "execution_count": 1,
      "outputs": [
        {
          "output_type": "stream",
          "text": [
            "--2020-06-10 11:30:36--  https://storage.googleapis.com/laurencemoroney-blog.appspot.com/sarcasm.json\n",
            "Resolving storage.googleapis.com (storage.googleapis.com)... 172.217.212.128, 2607:f8b0:4001:c10::80\n",
            "Connecting to storage.googleapis.com (storage.googleapis.com)|172.217.212.128|:443... connected.\n",
            "HTTP request sent, awaiting response... 200 OK\n",
            "Length: 5643545 (5.4M) [application/json]\n",
            "Saving to: ‘./sarcasm.json’\n",
            "\n",
            "\r./sarcasm.json        0%[                    ]       0  --.-KB/s               \r./sarcasm.json      100%[===================>]   5.38M  --.-KB/s    in 0.05s   \n",
            "\n",
            "2020-06-10 11:30:36 (107 MB/s) - ‘./sarcasm.json’ saved [5643545/5643545]\n",
            "\n",
            "Model: \"sequential\"\n",
            "_________________________________________________________________\n",
            "Layer (type)                 Output Shape              Param #   \n",
            "=================================================================\n",
            "embedding (Embedding)        (None, 120, 16)           16000     \n",
            "_________________________________________________________________\n",
            "bidirectional (Bidirectional (None, 64)                12544     \n",
            "_________________________________________________________________\n",
            "dense (Dense)                (None, 24)                1560      \n",
            "_________________________________________________________________\n",
            "dense_1 (Dense)              (None, 1)                 25        \n",
            "=================================================================\n",
            "Total params: 30,129\n",
            "Trainable params: 30,129\n",
            "Non-trainable params: 0\n",
            "_________________________________________________________________\n",
            "Epoch 1/50\n",
            "625/625 [==============================] - 39s 62ms/step - loss: 0.4592 - accuracy: 0.7670 - val_loss: 0.3879 - val_accuracy: 0.8208\n",
            "Epoch 2/50\n",
            "625/625 [==============================] - 37s 60ms/step - loss: 0.3555 - accuracy: 0.8350 - val_loss: 0.3741 - val_accuracy: 0.8264\n",
            "Epoch 3/50\n",
            "625/625 [==============================] - 37s 59ms/step - loss: 0.3345 - accuracy: 0.8482 - val_loss: 0.3810 - val_accuracy: 0.8196\n",
            "Epoch 4/50\n",
            "625/625 [==============================] - 36s 58ms/step - loss: 0.3179 - accuracy: 0.8591 - val_loss: 0.3783 - val_accuracy: 0.8310\n",
            "Epoch 5/50\n",
            "625/625 [==============================] - 37s 58ms/step - loss: 0.3054 - accuracy: 0.8647 - val_loss: 0.3898 - val_accuracy: 0.8253\n",
            "Epoch 6/50\n",
            "625/625 [==============================] - 36s 58ms/step - loss: 0.2965 - accuracy: 0.8698 - val_loss: 0.3794 - val_accuracy: 0.8301\n",
            "Epoch 7/50\n",
            "625/625 [==============================] - 37s 58ms/step - loss: 0.2869 - accuracy: 0.8730 - val_loss: 0.3890 - val_accuracy: 0.8259\n",
            "Epoch 8/50\n",
            "625/625 [==============================] - 37s 59ms/step - loss: 0.2786 - accuracy: 0.8803 - val_loss: 0.3796 - val_accuracy: 0.8289\n",
            "Epoch 9/50\n",
            "625/625 [==============================] - 36s 58ms/step - loss: 0.2705 - accuracy: 0.8830 - val_loss: 0.3941 - val_accuracy: 0.8307\n",
            "Epoch 10/50\n",
            "625/625 [==============================] - 37s 58ms/step - loss: 0.2621 - accuracy: 0.8861 - val_loss: 0.3959 - val_accuracy: 0.8226\n",
            "Epoch 11/50\n",
            "625/625 [==============================] - 37s 59ms/step - loss: 0.2534 - accuracy: 0.8906 - val_loss: 0.4353 - val_accuracy: 0.8267\n",
            "Epoch 12/50\n",
            "625/625 [==============================] - 36s 58ms/step - loss: 0.2460 - accuracy: 0.8947 - val_loss: 0.4090 - val_accuracy: 0.8271\n",
            "Epoch 13/50\n",
            "625/625 [==============================] - 36s 58ms/step - loss: 0.2395 - accuracy: 0.8970 - val_loss: 0.4249 - val_accuracy: 0.8211\n",
            "Epoch 14/50\n",
            "625/625 [==============================] - 37s 59ms/step - loss: 0.2325 - accuracy: 0.9002 - val_loss: 0.4394 - val_accuracy: 0.8232\n",
            "Epoch 15/50\n",
            "625/625 [==============================] - 37s 59ms/step - loss: 0.2244 - accuracy: 0.9062 - val_loss: 0.4383 - val_accuracy: 0.8240\n",
            "Epoch 16/50\n",
            "625/625 [==============================] - 36s 58ms/step - loss: 0.2183 - accuracy: 0.9089 - val_loss: 0.4765 - val_accuracy: 0.8228\n",
            "Epoch 17/50\n",
            "625/625 [==============================] - 37s 59ms/step - loss: 0.2116 - accuracy: 0.9129 - val_loss: 0.4720 - val_accuracy: 0.8225\n",
            "Epoch 18/50\n",
            "625/625 [==============================] - 37s 59ms/step - loss: 0.2053 - accuracy: 0.9145 - val_loss: 0.4873 - val_accuracy: 0.8199\n",
            "Epoch 19/50\n",
            "625/625 [==============================] - 38s 61ms/step - loss: 0.1976 - accuracy: 0.9190 - val_loss: 0.5149 - val_accuracy: 0.8168\n",
            "Epoch 20/50\n",
            "625/625 [==============================] - 38s 60ms/step - loss: 0.1942 - accuracy: 0.9215 - val_loss: 0.5288 - val_accuracy: 0.8159\n",
            "Epoch 21/50\n",
            "625/625 [==============================] - 37s 60ms/step - loss: 0.1853 - accuracy: 0.9240 - val_loss: 0.5621 - val_accuracy: 0.8171\n",
            "Epoch 22/50\n",
            "625/625 [==============================] - 37s 59ms/step - loss: 0.1774 - accuracy: 0.9281 - val_loss: 0.6191 - val_accuracy: 0.8159\n",
            "Epoch 23/50\n",
            "625/625 [==============================] - 37s 59ms/step - loss: 0.1716 - accuracy: 0.9283 - val_loss: 0.6385 - val_accuracy: 0.8107\n",
            "Epoch 24/50\n",
            "625/625 [==============================] - 36s 58ms/step - loss: 0.1649 - accuracy: 0.9342 - val_loss: 0.6803 - val_accuracy: 0.8109\n",
            "Epoch 25/50\n",
            "625/625 [==============================] - 37s 59ms/step - loss: 0.1635 - accuracy: 0.9334 - val_loss: 0.6946 - val_accuracy: 0.8110\n",
            "Epoch 26/50\n",
            "625/625 [==============================] - 36s 58ms/step - loss: 0.1514 - accuracy: 0.9376 - val_loss: 0.6934 - val_accuracy: 0.8104\n",
            "Epoch 27/50\n",
            "625/625 [==============================] - 37s 59ms/step - loss: 0.1464 - accuracy: 0.9408 - val_loss: 0.7816 - val_accuracy: 0.8088\n",
            "Epoch 28/50\n",
            "625/625 [==============================] - 37s 59ms/step - loss: 0.1384 - accuracy: 0.9437 - val_loss: 0.8493 - val_accuracy: 0.8074\n",
            "Epoch 29/50\n",
            "625/625 [==============================] - 36s 58ms/step - loss: 0.1343 - accuracy: 0.9434 - val_loss: 0.9312 - val_accuracy: 0.8114\n",
            "Epoch 30/50\n",
            "625/625 [==============================] - 37s 58ms/step - loss: 0.1332 - accuracy: 0.9445 - val_loss: 0.8679 - val_accuracy: 0.8083\n",
            "Epoch 31/50\n",
            "625/625 [==============================] - 37s 59ms/step - loss: 0.1208 - accuracy: 0.9510 - val_loss: 0.9579 - val_accuracy: 0.8052\n",
            "Epoch 32/50\n",
            "625/625 [==============================] - 36s 58ms/step - loss: 0.1202 - accuracy: 0.9494 - val_loss: 1.0232 - val_accuracy: 0.8024\n",
            "Epoch 33/50\n",
            "625/625 [==============================] - 36s 58ms/step - loss: 0.1121 - accuracy: 0.9518 - val_loss: 1.0457 - val_accuracy: 0.7992\n",
            "Epoch 34/50\n",
            "625/625 [==============================] - 36s 58ms/step - loss: 0.1108 - accuracy: 0.9533 - val_loss: 1.0820 - val_accuracy: 0.8044\n",
            "Epoch 35/50\n",
            "625/625 [==============================] - 36s 58ms/step - loss: 0.1004 - accuracy: 0.9564 - val_loss: 1.1217 - val_accuracy: 0.8031\n",
            "Epoch 36/50\n",
            "625/625 [==============================] - 37s 60ms/step - loss: 0.0998 - accuracy: 0.9564 - val_loss: 1.2503 - val_accuracy: 0.7988\n",
            "Epoch 37/50\n",
            "625/625 [==============================] - 37s 60ms/step - loss: 0.1048 - accuracy: 0.9552 - val_loss: 1.1931 - val_accuracy: 0.8013\n",
            "Epoch 38/50\n",
            "625/625 [==============================] - 37s 59ms/step - loss: 0.0947 - accuracy: 0.9578 - val_loss: 1.2836 - val_accuracy: 0.7936\n",
            "Epoch 39/50\n",
            "625/625 [==============================] - 37s 59ms/step - loss: 0.0926 - accuracy: 0.9588 - val_loss: 1.2428 - val_accuracy: 0.8012\n",
            "Epoch 40/50\n",
            "625/625 [==============================] - 37s 60ms/step - loss: 0.0844 - accuracy: 0.9623 - val_loss: 1.4132 - val_accuracy: 0.8049\n",
            "Epoch 41/50\n",
            "625/625 [==============================] - 37s 59ms/step - loss: 0.0819 - accuracy: 0.9630 - val_loss: 1.5034 - val_accuracy: 0.8046\n",
            "Epoch 42/50\n",
            "625/625 [==============================] - 37s 59ms/step - loss: 0.0844 - accuracy: 0.9622 - val_loss: 1.4155 - val_accuracy: 0.7986\n",
            "Epoch 43/50\n",
            "625/625 [==============================] - 42s 67ms/step - loss: 0.0807 - accuracy: 0.9646 - val_loss: 1.5047 - val_accuracy: 0.8016\n",
            "Epoch 44/50\n",
            "625/625 [==============================] - 37s 59ms/step - loss: 0.0748 - accuracy: 0.9653 - val_loss: 1.5978 - val_accuracy: 0.8012\n",
            "Epoch 45/50\n",
            "625/625 [==============================] - 37s 59ms/step - loss: 0.0762 - accuracy: 0.9666 - val_loss: 1.6229 - val_accuracy: 0.8032\n",
            "Epoch 46/50\n",
            "625/625 [==============================] - 37s 60ms/step - loss: 0.0747 - accuracy: 0.9676 - val_loss: 1.5730 - val_accuracy: 0.8082\n",
            "Epoch 47/50\n",
            "625/625 [==============================] - 37s 59ms/step - loss: 0.0697 - accuracy: 0.9674 - val_loss: 1.7888 - val_accuracy: 0.7967\n",
            "Epoch 48/50\n",
            "625/625 [==============================] - 37s 59ms/step - loss: 0.0788 - accuracy: 0.9639 - val_loss: 1.6305 - val_accuracy: 0.8004\n",
            "Epoch 49/50\n",
            "625/625 [==============================] - 37s 59ms/step - loss: 0.0653 - accuracy: 0.9690 - val_loss: 1.7280 - val_accuracy: 0.8046\n",
            "Epoch 50/50\n",
            "625/625 [==============================] - 37s 59ms/step - loss: 0.0591 - accuracy: 0.9706 - val_loss: 1.7749 - val_accuracy: 0.8015\n"
          ],
          "name": "stdout"
        }
      ]
    },
    {
      "cell_type": "code",
      "metadata": {
        "colab_type": "code",
        "id": "g9DC6dmLF8DC",
        "colab": {
          "base_uri": "https://localhost:8080/",
          "height": 541
        },
        "outputId": "e6892819-67dc-46b4-97a7-b952dedfbc57"
      },
      "source": [
        "import matplotlib.pyplot as plt\n",
        "\n",
        "\n",
        "def plot_graphs(history, string):\n",
        "  plt.plot(history.history[string])\n",
        "  plt.plot(history.history['val_'+string])\n",
        "  plt.xlabel(\"Epochs\")\n",
        "  plt.ylabel(string)\n",
        "  plt.legend([string, 'val_'+string])\n",
        "  plt.show()\n",
        "\n",
        "plot_graphs(history, 'accuracy')\n",
        "plot_graphs(history, 'loss')"
      ],
      "execution_count": 2,
      "outputs": [
        {
          "output_type": "display_data",
          "data": {
            "image/png": "[encoded data removed]",
            "text/plain": [
              "<Figure size 432x288 with 1 Axes>"
            ]
          },
          "metadata": {
            "tags": [],
            "needs_background": "light"
          }
        },
        {
          "output_type": "display_data",
          "data": {
            "image/png": "[encoded data removed]",
            "text/plain": [
              "<Figure size 432x288 with 1 Axes>"
            ]
          },
          "metadata": {
            "tags": [],
            "needs_background": "light"
          }
        }
      ]
    },
    {
      "cell_type": "code",
      "metadata": {
        "colab_type": "code",
        "id": "7ZEZIUppGhdi",
        "colab": {}
      },
      "source": [
        "model.save(\"test.h5\")"
      ],
      "execution_count": 0,
      "outputs": []
    }
  ]
}