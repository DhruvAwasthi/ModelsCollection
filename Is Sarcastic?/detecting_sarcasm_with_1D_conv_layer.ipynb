{
 "cells": [
  {
   "cell_type": "code",
   "execution_count": 0,
   "metadata": {
    "colab": {},
    "colab_type": "code",
    "id": "zX4Kg8DUTKWO"
   },
   "outputs": [],
   "source": [
    "#@title Licensed under the Apache License, Version 2.0 (the \"License\");\n",
    "# you may not use this file except in compliance with the License.\n",
    "# You may obtain a copy of the License at\n",
    "#\n",
    "# https://www.apache.org/licenses/LICENSE-2.0\n",
    "#\n",
    "# Unless required by applicable law or agreed to in writing, software\n",
    "# distributed under the License is distributed on an \"AS IS\" BASIS,\n",
    "# WITHOUT WARRANTIES OR CONDITIONS OF ANY KIND, either express or implied.\n",
    "# See the License for the specific language governing permissions and\n",
    "# limitations under the License."
   ]
  },
  {
   "cell_type": "code",
   "execution_count": 4,
   "metadata": {
    "colab": {},
    "colab_type": "code",
    "id": "jGwXGIXvFhXW"
   },
   "outputs": [
    {
     "name": "stdout",
     "output_type": "stream",
     "text": [
      "--2020-06-10 17:10:25--  https://storage.googleapis.com/laurencemoroney-blog.appspot.com/sarcasm.json\n",
      "Loaded CA certificate '/etc/ssl/certs/ca-certificates.crt'\n",
      "Resolving storage.googleapis.com (storage.googleapis.com)... 172.217.160.240, 2404:6800:4002:80b::2010\n",
      "Connecting to storage.googleapis.com (storage.googleapis.com)|172.217.160.240|:443... connected.\n",
      "HTTP request sent, awaiting response... 200 OK\n",
      "Length: 5643545 (5.4M) [application/json]\n",
      "Saving to: ‘./sarcasm.json’\n",
      "\n",
      "./sarcasm.json      100%[===================>]   5.38M   527KB/s    in 7.9s    \n",
      "\n",
      "2020-06-10 17:10:33 (701 KB/s) - ‘./sarcasm.json’ saved [5643545/5643545]\n",
      "\n",
      "Model: \"sequential_1\"\n",
      "_________________________________________________________________\n",
      "Layer (type)                 Output Shape              Param #   \n",
      "=================================================================\n",
      "embedding_1 (Embedding)      (None, 120, 16)           16000     \n",
      "_________________________________________________________________\n",
      "conv1d_1 (Conv1D)            (None, 116, 128)          10368     \n",
      "_________________________________________________________________\n",
      "global_max_pooling1d_1 (Glob (None, 128)               0         \n",
      "_________________________________________________________________\n",
      "dense_2 (Dense)              (None, 24)                3096      \n",
      "_________________________________________________________________\n",
      "dense_3 (Dense)              (None, 1)                 25        \n",
      "=================================================================\n",
      "Total params: 29,489\n",
      "Trainable params: 29,489\n",
      "Non-trainable params: 0\n",
      "_________________________________________________________________\n",
      "Epoch 1/50\n",
      "625/625 [==============================] - 26s 42ms/step - loss: 0.4720 - accuracy: 0.7624 - val_loss: 0.4050 - val_accuracy: 0.8140\n",
      "Epoch 2/50\n",
      "625/625 [==============================] - 27s 44ms/step - loss: 0.3553 - accuracy: 0.8396 - val_loss: 0.3919 - val_accuracy: 0.8225\n",
      "Epoch 3/50\n",
      "625/625 [==============================] - 27s 43ms/step - loss: 0.3121 - accuracy: 0.8621 - val_loss: 0.3916 - val_accuracy: 0.8235\n",
      "Epoch 4/50\n",
      "625/625 [==============================] - 26s 42ms/step - loss: 0.2746 - accuracy: 0.8814 - val_loss: 0.4320 - val_accuracy: 0.8199\n",
      "Epoch 5/50\n",
      "625/625 [==============================] - 26s 42ms/step - loss: 0.2425 - accuracy: 0.8982 - val_loss: 0.4550 - val_accuracy: 0.8137\n",
      "Epoch 6/50\n",
      "625/625 [==============================] - 25s 40ms/step - loss: 0.2073 - accuracy: 0.9155 - val_loss: 0.4911 - val_accuracy: 0.8101\n",
      "Epoch 7/50\n",
      "625/625 [==============================] - 26s 42ms/step - loss: 0.1740 - accuracy: 0.9319 - val_loss: 0.5590 - val_accuracy: 0.8025\n",
      "Epoch 8/50\n",
      "625/625 [==============================] - 27s 43ms/step - loss: 0.1457 - accuracy: 0.9451 - val_loss: 0.6089 - val_accuracy: 0.8012\n",
      "Epoch 9/50\n",
      "625/625 [==============================] - 26s 41ms/step - loss: 0.1192 - accuracy: 0.9574 - val_loss: 0.6724 - val_accuracy: 0.8024\n",
      "Epoch 10/50\n",
      "625/625 [==============================] - 25s 40ms/step - loss: 0.1006 - accuracy: 0.9645 - val_loss: 0.7421 - val_accuracy: 0.7952\n",
      "Epoch 11/50\n",
      "625/625 [==============================] - 24s 38ms/step - loss: 0.0858 - accuracy: 0.9693 - val_loss: 0.8603 - val_accuracy: 0.7951\n",
      "Epoch 12/50\n",
      "625/625 [==============================] - 26s 41ms/step - loss: 0.0724 - accuracy: 0.9750 - val_loss: 0.9663 - val_accuracy: 0.7977\n",
      "Epoch 13/50\n",
      "625/625 [==============================] - 30s 49ms/step - loss: 0.0650 - accuracy: 0.9770 - val_loss: 1.0139 - val_accuracy: 0.7919\n",
      "Epoch 14/50\n",
      "625/625 [==============================] - 29s 47ms/step - loss: 0.0596 - accuracy: 0.9787 - val_loss: 1.0269 - val_accuracy: 0.7894\n",
      "Epoch 15/50\n",
      "625/625 [==============================] - 32s 51ms/step - loss: 0.0546 - accuracy: 0.9802 - val_loss: 1.2086 - val_accuracy: 0.7901\n",
      "Epoch 16/50\n",
      "625/625 [==============================] - 30s 47ms/step - loss: 0.0502 - accuracy: 0.9815 - val_loss: 1.2445 - val_accuracy: 0.7891\n",
      "Epoch 17/50\n",
      "625/625 [==============================] - 30s 49ms/step - loss: 0.0436 - accuracy: 0.9844 - val_loss: 1.3038 - val_accuracy: 0.7921\n",
      "Epoch 18/50\n",
      "625/625 [==============================] - 31s 49ms/step - loss: 0.0422 - accuracy: 0.9845 - val_loss: 1.4348 - val_accuracy: 0.7866\n",
      "Epoch 19/50\n",
      "625/625 [==============================] - 30s 48ms/step - loss: 0.0393 - accuracy: 0.9854 - val_loss: 1.3994 - val_accuracy: 0.7854\n",
      "Epoch 20/50\n",
      "625/625 [==============================] - 28s 45ms/step - loss: 0.0423 - accuracy: 0.9837 - val_loss: 1.5276 - val_accuracy: 0.7879\n",
      "Epoch 21/50\n",
      "625/625 [==============================] - 30s 48ms/step - loss: 0.0415 - accuracy: 0.9843 - val_loss: 1.6784 - val_accuracy: 0.7843\n",
      "Epoch 22/50\n",
      "625/625 [==============================] - 29s 47ms/step - loss: 0.0343 - accuracy: 0.9863 - val_loss: 1.5630 - val_accuracy: 0.7907\n",
      "Epoch 23/50\n",
      "625/625 [==============================] - 30s 49ms/step - loss: 0.0333 - accuracy: 0.9866 - val_loss: 1.6365 - val_accuracy: 0.7889\n",
      "Epoch 24/50\n",
      "625/625 [==============================] - 30s 47ms/step - loss: 0.0292 - accuracy: 0.9883 - val_loss: 1.8721 - val_accuracy: 0.7906\n",
      "Epoch 25/50\n",
      "625/625 [==============================] - 32s 51ms/step - loss: 0.0353 - accuracy: 0.9861 - val_loss: 1.8437 - val_accuracy: 0.7880\n",
      "Epoch 26/50\n",
      "625/625 [==============================] - 32s 50ms/step - loss: 0.0356 - accuracy: 0.9858 - val_loss: 1.8263 - val_accuracy: 0.7945\n",
      "Epoch 27/50\n",
      "625/625 [==============================] - 30s 48ms/step - loss: 0.0293 - accuracy: 0.9879 - val_loss: 1.9191 - val_accuracy: 0.7886\n",
      "Epoch 28/50\n",
      "625/625 [==============================] - 29s 46ms/step - loss: 0.0288 - accuracy: 0.9875 - val_loss: 1.8568 - val_accuracy: 0.7843\n",
      "Epoch 29/50\n",
      "625/625 [==============================] - 31s 49ms/step - loss: 0.0261 - accuracy: 0.9887 - val_loss: 1.8491 - val_accuracy: 0.7886\n",
      "Epoch 30/50\n",
      "625/625 [==============================] - 28s 44ms/step - loss: 0.0330 - accuracy: 0.9863 - val_loss: 1.9128 - val_accuracy: 0.7877\n",
      "Epoch 31/50\n",
      "625/625 [==============================] - 29s 47ms/step - loss: 0.0286 - accuracy: 0.9880 - val_loss: 2.0714 - val_accuracy: 0.7834\n",
      "Epoch 32/50\n",
      "625/625 [==============================] - 26s 41ms/step - loss: 0.0260 - accuracy: 0.9884 - val_loss: 2.0261 - val_accuracy: 0.7836\n",
      "Epoch 33/50\n",
      "625/625 [==============================] - 23s 37ms/step - loss: 0.0237 - accuracy: 0.9893 - val_loss: 2.0789 - val_accuracy: 0.7828\n",
      "Epoch 34/50\n",
      "625/625 [==============================] - 28s 45ms/step - loss: 0.0279 - accuracy: 0.9883 - val_loss: 2.1371 - val_accuracy: 0.7846\n",
      "Epoch 35/50\n",
      "625/625 [==============================] - 27s 43ms/step - loss: 0.0265 - accuracy: 0.9888 - val_loss: 2.2941 - val_accuracy: 0.7797\n",
      "Epoch 36/50\n",
      "625/625 [==============================] - 26s 41ms/step - loss: 0.0258 - accuracy: 0.9890 - val_loss: 2.0194 - val_accuracy: 0.7924\n",
      "Epoch 37/50\n",
      "625/625 [==============================] - 26s 42ms/step - loss: 0.0276 - accuracy: 0.9883 - val_loss: 2.2660 - val_accuracy: 0.7889\n",
      "Epoch 38/50\n",
      "625/625 [==============================] - 28s 44ms/step - loss: 0.0258 - accuracy: 0.9884 - val_loss: 2.2152 - val_accuracy: 0.7828\n",
      "Epoch 39/50\n",
      "625/625 [==============================] - 26s 41ms/step - loss: 0.0282 - accuracy: 0.9880 - val_loss: 2.1178 - val_accuracy: 0.7922\n",
      "Epoch 40/50\n",
      "625/625 [==============================] - 28s 45ms/step - loss: 0.0204 - accuracy: 0.9909 - val_loss: 2.3289 - val_accuracy: 0.7818\n",
      "Epoch 41/50\n",
      "625/625 [==============================] - 26s 41ms/step - loss: 0.0176 - accuracy: 0.9923 - val_loss: 2.5587 - val_accuracy: 0.7833\n",
      "Epoch 42/50\n",
      "625/625 [==============================] - 24s 39ms/step - loss: 0.0206 - accuracy: 0.9903 - val_loss: 2.4646 - val_accuracy: 0.7800\n",
      "Epoch 43/50\n",
      "625/625 [==============================] - 23s 36ms/step - loss: 0.0302 - accuracy: 0.9872 - val_loss: 2.4717 - val_accuracy: 0.7849\n",
      "Epoch 44/50\n",
      "625/625 [==============================] - 20s 32ms/step - loss: 0.0254 - accuracy: 0.9890 - val_loss: 2.3409 - val_accuracy: 0.7851\n",
      "Epoch 45/50\n",
      "625/625 [==============================] - 23s 37ms/step - loss: 0.0209 - accuracy: 0.9909 - val_loss: 2.4009 - val_accuracy: 0.7857\n",
      "Epoch 46/50\n"
     ]
    },
    {
     "name": "stdout",
     "output_type": "stream",
     "text": [
      "625/625 [==============================] - 20s 32ms/step - loss: 0.0168 - accuracy: 0.9919 - val_loss: 2.5985 - val_accuracy: 0.7892\n",
      "Epoch 47/50\n",
      "625/625 [==============================] - 19s 31ms/step - loss: 0.0171 - accuracy: 0.9920 - val_loss: 2.6304 - val_accuracy: 0.7904\n",
      "Epoch 48/50\n",
      "625/625 [==============================] - 21s 34ms/step - loss: 0.0233 - accuracy: 0.9894 - val_loss: 2.6212 - val_accuracy: 0.7870\n",
      "Epoch 49/50\n",
      "625/625 [==============================] - 23s 37ms/step - loss: 0.0253 - accuracy: 0.9895 - val_loss: 2.4597 - val_accuracy: 0.7904\n",
      "Epoch 50/50\n",
      "625/625 [==============================] - 21s 33ms/step - loss: 0.0219 - accuracy: 0.9899 - val_loss: 2.5531 - val_accuracy: 0.7918\n"
     ]
    }
   ],
   "source": [
    "import json\n",
    "import tensorflow as tf\n",
    "import numpy as np\n",
    "\n",
    "from tensorflow.keras.preprocessing.text import Tokenizer\n",
    "from tensorflow.keras.preprocessing.sequence import pad_sequences\n",
    "\n",
    "!wget --no-check-certificate \\\n",
    "    https://storage.googleapis.com/laurencemoroney-blog.appspot.com/sarcasm.json \\\n",
    "    -O ./sarcasm.json\n",
    "\n",
    "vocab_size = 1000\n",
    "embedding_dim = 16\n",
    "max_length = 120\n",
    "trunc_type='post'\n",
    "padding_type='post'\n",
    "oov_tok = \"<OOV>\"\n",
    "training_size = 20000\n",
    "\n",
    "\n",
    "with open(\"./sarcasm.json\", 'r') as f:\n",
    "    datastore = json.load(f)\n",
    "\n",
    "\n",
    "sentences = []\n",
    "labels = []\n",
    "urls = []\n",
    "for item in datastore:\n",
    "    sentences.append(item['headline'])\n",
    "    labels.append(item['is_sarcastic'])\n",
    "\n",
    "training_sentences = sentences[0:training_size]\n",
    "testing_sentences = sentences[training_size:]\n",
    "training_labels = np.array(labels[0:training_size])\n",
    "testing_labels = np.array(labels[training_size:])\n",
    "\n",
    "tokenizer = Tokenizer(num_words=vocab_size, oov_token=oov_tok)\n",
    "tokenizer.fit_on_texts(training_sentences)\n",
    "\n",
    "word_index = tokenizer.word_index\n",
    "\n",
    "training_sequences = tokenizer.texts_to_sequences(training_sentences)\n",
    "training_padded = np.array(pad_sequences(training_sequences, maxlen=max_length, padding=padding_type, truncating=trunc_type))\n",
    "\n",
    "testing_sequences = tokenizer.texts_to_sequences(testing_sentences)\n",
    "testing_padded = np.array(pad_sequences(testing_sequences, maxlen=max_length, padding=padding_type, truncating=trunc_type))\n",
    "\n",
    "model = tf.keras.Sequential([\n",
    "    tf.keras.layers.Embedding(vocab_size, embedding_dim, input_length=max_length),\n",
    "    tf.keras.layers.Conv1D(128, 5, activation='relu'),\n",
    "    tf.keras.layers.GlobalMaxPooling1D(),\n",
    "    tf.keras.layers.Dense(24, activation='relu'),\n",
    "    tf.keras.layers.Dense(1, activation='sigmoid')\n",
    "])\n",
    "model.compile(loss='binary_crossentropy',optimizer='adam',metrics=['accuracy'])\n",
    "model.summary()\n",
    "\n",
    "num_epochs = 50\n",
    "history = model.fit(training_padded, training_labels, epochs=num_epochs, validation_data=(testing_padded, testing_labels), verbose=1)\n"
   ]
  },
  {
   "cell_type": "code",
   "execution_count": 7,
   "metadata": {
    "colab": {},
    "colab_type": "code",
    "id": "g9DC6dmLF8DC"
   },
   "outputs": [
    {
     "data": {
      "image/png": "[encoded data removed]",
      "text/plain": [
       "<Figure size 432x288 with 1 Axes>"
      ]
     },
     "metadata": {
      "needs_background": "light"
     },
     "output_type": "display_data"
    },
    {
     "data": {
      "image/png": "[encoded data removed]",
      "text/plain": [
       "<Figure size 432x288 with 1 Axes>"
      ]
     },
     "metadata": {
      "needs_background": "light"
     },
     "output_type": "display_data"
    }
   ],
   "source": [
    "import matplotlib.pyplot as plt\n",
    "\n",
    "\n",
    "def plot_graphs(history, string):\n",
    "  plt.plot(history.history[string])\n",
    "  plt.plot(history.history['val_'+string])\n",
    "  plt.xlabel(\"Epochs\")\n",
    "  plt.ylabel(string)\n",
    "  plt.legend([string, 'val_'+string])\n",
    "  plt.show()\n",
    "\n",
    "plot_graphs(history, 'accuracy')\n",
    "plot_graphs(history, 'loss')"
   ]
  },
  {
   "cell_type": "code",
   "execution_count": 6,
   "metadata": {
    "colab": {},
    "colab_type": "code",
    "id": "7ZEZIUppGhdi"
   },
   "outputs": [],
   "source": [
    "model.save(\"test_conv.h5\")"
   ]
  }
 ],
 "metadata": {
  "accelerator": "GPU",
  "colab": {
   "collapsed_sections": [],
   "name": "Course 3 - Week 3 - Lesson 2c.ipynb",
   "provenance": [],
   "toc_visible": true
  },
  "kernelspec": {
   "display_name": "Python 3",
   "language": "python",
   "name": "python3"
  },
  "language_info": {
   "codemirror_mode": {
    "name": "ipython",
    "version": 3
   },
   "file_extension": ".py",
   "mimetype": "text/x-python",
   "name": "python",
   "nbconvert_exporter": "python",
   "pygments_lexer": "ipython3",
   "version": "3.7.6"
  }
 },
 "nbformat": 4,
 "nbformat_minor": 1
}
