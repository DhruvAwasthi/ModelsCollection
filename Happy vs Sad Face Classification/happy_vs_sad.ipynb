{
 "cells": [
  {
   "cell_type": "markdown",
   "metadata": {
    "colab_type": "text",
    "id": "UncprnB0ymAE"
   },
   "source": [
    "Below is code with a link to a happy or sad dataset which contains 80 images, 40 happy and 40 sad. \n",
    "Create a convolutional neural network that trains to 100% accuracy on these images,  which cancels training upon hitting training accuracy of >.999\n",
    "\n",
    "Hint -- it will work best with 3 convolutional layers."
   ]
  },
  {
   "cell_type": "code",
   "execution_count": 1,
   "metadata": {},
   "outputs": [],
   "source": [
    "import tensorflow as tf\n",
    "import os\n",
    "import zipfile\n",
    "from os import path, getcwd, chdir\n",
    "\n",
    "!wget --no-check-certificate \\\n",
    "    \"https://storage.googleapis.com/laurencemoroney-blog.appspot.com/happy-or-sad.zip\" \\\n",
    "    -O \"/tmp/happy-or-sad.zip\"\n",
    "\n",
    "zip_ref = zipfile.ZipFile(\"/tmp/happy-or-sad.zip\", 'r')\n",
    "zip_ref.extractall(\"/tmp/h-or-s\")\n",
    "zip_ref.close()"
   ]
  },
  {
   "cell_type": "code",
   "execution_count": 18,
   "metadata": {},
   "outputs": [],
   "source": [
    "def train_happy_sad_model():\n",
    "    DESIRED_ACCURACY = 0.999\n",
    "\n",
    "    class myCallback(tf.keras.callbacks.Callback):\n",
    "        def on_epoch_end(self, epoch, log={}):\n",
    "            if (log.get('acc')>DESIRED_ACCURACY):\n",
    "                print(\"\\nAccuracy achieved {:.1f}% so cancelling training.\".format(DESIRED_ACCURACY))\n",
    "                self.model.stop_training = True\n",
    "\n",
    "    callbacks = myCallback()\n",
    "    \n",
    "    model = tf.keras.models.Sequential([\n",
    "        tf.keras.layers.Conv2D(8, (3, 3), activation='relu', input_shape=(150, 150, 3)),\n",
    "        tf.keras.layers.MaxPooling2D(2, 2),\n",
    "        tf.keras.layers.Conv2D(4, (3, 3), activation='relu'),\n",
    "        tf.keras.layers.MaxPooling2D(2, 2),\n",
    "        tf.keras.layers.Conv2D(4, (3, 3), activation='relu'),\n",
    "        tf.keras.layers.MaxPooling2D(2, 2),\n",
    "        tf.keras.layers.Flatten(),\n",
    "        tf.keras.layers.Dense(8, activation='relu'),\n",
    "        tf.keras.layers.Dense(1, activation='sigmoid')\n",
    "    ])\n",
    "    \n",
    "    model.summary()\n",
    "    \n",
    "    from tensorflow.keras.optimizers import RMSprop\n",
    "\n",
    "    model.compile(optimizer=RMSprop(lr=0.001), loss='binary_crossentropy', metrics=['accuracy'])\n",
    "        \n",
    "\n",
    "    from tensorflow.keras.preprocessing.image import ImageDataGenerator\n",
    "\n",
    "    train_datagen = ImageDataGenerator(rescale=1./255)\n",
    "\n",
    "    # Please use a target_size of 150 X 150.\n",
    "    train_generator = train_datagen.flow_from_directory(\n",
    "        '/tmp/h-or-s',\n",
    "        target_size=(150, 150),\n",
    "        batch_size=128,\n",
    "        class_mode='binary')\n",
    "\n",
    "    history = model.fit_generator(train_generator, steps_per_epoch=8, epochs=15, verbose=1, callbacks=[callbacks])\n",
    "    # model fitting\n",
    "    return history.history['acc'][-1]"
   ]
  },
  {
   "cell_type": "code",
   "execution_count": 19,
   "metadata": {},
   "outputs": [
    {
     "name": "stdout",
     "output_type": "stream",
     "text": [
      "Model: \"sequential_7\"\n",
      "_________________________________________________________________\n",
      "Layer (type)                 Output Shape              Param #   \n",
      "=================================================================\n",
      "conv2d_21 (Conv2D)           (None, 148, 148, 8)       224       \n",
      "_________________________________________________________________\n",
      "max_pooling2d_21 (MaxPooling (None, 74, 74, 8)         0         \n",
      "_________________________________________________________________\n",
      "conv2d_22 (Conv2D)           (None, 72, 72, 4)         292       \n",
      "_________________________________________________________________\n",
      "max_pooling2d_22 (MaxPooling (None, 36, 36, 4)         0         \n",
      "_________________________________________________________________\n",
      "conv2d_23 (Conv2D)           (None, 34, 34, 4)         148       \n",
      "_________________________________________________________________\n",
      "max_pooling2d_23 (MaxPooling (None, 17, 17, 4)         0         \n",
      "_________________________________________________________________\n",
      "flatten_7 (Flatten)          (None, 1156)              0         \n",
      "_________________________________________________________________\n",
      "dense_14 (Dense)             (None, 8)                 9256      \n",
      "_________________________________________________________________\n",
      "dense_15 (Dense)             (None, 1)                 9         \n",
      "=================================================================\n",
      "Total params: 9,929\n",
      "Trainable params: 9,929\n",
      "Non-trainable params: 0\n",
      "_________________________________________________________________\n",
      "Found 80 images belonging to 2 classes.\n",
      "Epoch 1/15\n",
      "8/8 [==============================] - 4s 525ms/step - loss: 0.5952 - acc: 0.6719\n",
      "Epoch 2/15\n",
      "8/8 [==============================] - 3s 325ms/step - loss: 0.3804 - acc: 0.8891\n",
      "Epoch 3/15\n",
      "8/8 [==============================] - 2s 312ms/step - loss: 0.2449 - acc: 0.9609\n",
      "Epoch 4/15\n",
      "8/8 [==============================] - 3s 315ms/step - loss: 0.1795 - acc: 0.9641\n",
      "Epoch 5/15\n",
      "8/8 [==============================] - 3s 334ms/step - loss: 0.1456 - acc: 0.9656\n",
      "Epoch 6/15\n",
      "8/8 [==============================] - 3s 315ms/step - loss: 0.1188 - acc: 0.9703\n",
      "Epoch 7/15\n",
      "8/8 [==============================] - 3s 315ms/step - loss: 0.0989 - acc: 0.9703\n",
      "Epoch 8/15\n",
      "8/8 [==============================] - 3s 322ms/step - loss: 0.0836 - acc: 0.9750\n",
      "Epoch 9/15\n",
      "8/8 [==============================] - 2s 301ms/step - loss: 0.0650 - acc: 0.9812\n",
      "Epoch 10/15\n",
      "8/8 [==============================] - 3s 313ms/step - loss: 0.0532 - acc: 0.9828\n",
      "Epoch 11/15\n",
      "8/8 [==============================] - 3s 322ms/step - loss: 0.0436 - acc: 0.9875\n",
      "Epoch 12/15\n",
      "8/8 [==============================] - 2s 302ms/step - loss: 0.0343 - acc: 0.9984\n",
      "Epoch 13/15\n",
      "7/8 [=========================>....] - ETA: 0s - loss: 0.0293 - acc: 1.0000\n",
      "Accuracy achieved 1.0% so cancelling training.\n",
      "8/8 [==============================] - 3s 322ms/step - loss: 0.0288 - acc: 1.0000\n"
     ]
    },
    {
     "data": {
      "text/plain": [
       "1.0"
      ]
     },
     "execution_count": 19,
     "metadata": {},
     "output_type": "execute_result"
    }
   ],
   "source": [
    "train_happy_sad_model()"
   ]
  }
 ],
 "metadata": {
  "coursera": {
   "course_slug": "introduction-tensorflow",
   "graded_item_id": "1kAlw",
   "launcher_item_id": "PNLYD"
  },
  "kernelspec": {
   "display_name": "Python 3",
   "language": "python",
   "name": "python3"
  },
  "language_info": {
   "codemirror_mode": {
    "name": "ipython",
    "version": 3
   },
   "file_extension": ".py",
   "mimetype": "text/x-python",
   "name": "python",
   "nbconvert_exporter": "python",
   "pygments_lexer": "ipython3",
   "version": "3.7.6"
  }
 },
 "nbformat": 4,
 "nbformat_minor": 1
}
