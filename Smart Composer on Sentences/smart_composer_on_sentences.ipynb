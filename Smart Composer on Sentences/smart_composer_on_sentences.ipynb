{
  "nbformat": 4,
  "nbformat_minor": 0,
  "metadata": {
    "colab": {
      "name": "smart_composer_on_sentences.ipynb",
      "provenance": [],
      "collapsed_sections": []
    },
    "kernelspec": {
      "name": "python3",
      "display_name": "Python 3"
    },
    "accelerator": "GPU"
  },
  "cells": [
    {
      "cell_type": "markdown",
      "metadata": {
        "id": "E6B1IwYUSs_U",
        "colab_type": "text"
      },
      "source": [
        "# Create the corpus"
      ]
    },
    {
      "cell_type": "code",
      "metadata": {
        "id": "qWRLsbCdFvI8",
        "colab_type": "code",
        "colab": {
          "base_uri": "https://localhost:8080/",
          "height": 211
        },
        "outputId": "93a902c6-74e6-42bf-c926-f1931629a3a4"
      },
      "source": [
        "!pip install pymupdf\n",
        "import fitz\n",
        "import nltk.data\n",
        "import re\n",
        "nltk.download('punkt')\n",
        "nltk.download('words')"
      ],
      "execution_count": null,
      "outputs": [
        {
          "output_type": "stream",
          "text": [
            "Collecting pymupdf\n",
            "\u001b[?25l  Downloading https://files.pythonhosted.org/packages/3f/a1/11e63fd3746e0e6e07e71226cb51ef8a3cc2a2ad5577be04e8470035ce4a/PyMuPDF-1.17.5-cp36-cp36m-manylinux2010_x86_64.whl (6.0MB)\n",
            "\u001b[K     |████████████████████████████████| 6.0MB 2.4MB/s \n",
            "\u001b[?25hInstalling collected packages: pymupdf\n",
            "Successfully installed pymupdf-1.17.5\n",
            "[nltk_data] Downloading package punkt to /root/nltk_data...\n",
            "[nltk_data]   Unzipping tokenizers/punkt.zip.\n",
            "[nltk_data] Downloading package words to /root/nltk_data...\n",
            "[nltk_data]   Unzipping corpora/words.zip.\n"
          ],
          "name": "stdout"
        },
        {
          "output_type": "execute_result",
          "data": {
            "text/plain": [
              "True"
            ]
          },
          "metadata": {
            "tags": []
          },
          "execution_count": 1
        }
      ]
    },
    {
      "cell_type": "code",
      "metadata": {
        "id": "V0jcqbQMhAy2",
        "colab_type": "code",
        "colab": {}
      },
      "source": [
        "# Write content of 'E_376.pdf' to 'dataset.txt'\n",
        "doc = fitz.open(\"E_376.pdf\")\n",
        "f = open(\"dataset.txt\", \"a\")\n",
        "\n",
        "for page_no in range(20, 64):\n",
        "  page = doc[page_no].getText()\n",
        "  f.write(page)\n",
        "\n",
        "f.close()"
      ],
      "execution_count": null,
      "outputs": []
    },
    {
      "cell_type": "code",
      "metadata": {
        "id": "M0s_yjRTOPtB",
        "colab_type": "code",
        "colab": {}
      },
      "source": [
        "def word_exists(word):\n",
        "    \"\"\"Checks if word is a valid English word or not.\n",
        "    :param word: str word to be checked\n",
        "    :return: boolean value; True, if words exists in English dictionary else False\"\"\"\n",
        "    english_vocab = set(w.lower() for w in nltk.corpus.words.words())\n",
        "    if word.lower() in english_vocab:\n",
        "        return True\n",
        "    else:\n",
        "        return False\n",
        "        \n",
        "\n",
        "def replace_incomplete_words(text):\n",
        "    \"\"\"Replace words like 'Mainten- ance' with 'Maintenance'\n",
        "    :param text: list of str containing texts to process\n",
        "    :return: list of str after processing all the texts\"\"\"\n",
        "    processed = []\n",
        "    punctuations = '''!()-[]{};:'\"\\,<>./?@#$%^&*_~'''\n",
        "    for item in text:\n",
        "        count = item.count(\"- \")\n",
        "        while count > 0:\n",
        "            try:\n",
        "              first_half = item.split(\"- \")[0].split()[-1]\n",
        "              second_half = item.split(\"- \")[1].split()[0]\n",
        "              original_second_half = second_half\n",
        "              if second_half[-1] in punctuations:\n",
        "                  second_half = second_half[:-1]  # If word contains punctuation in the last, remove it.\n",
        "              word_without = first_half + second_half\n",
        "              if word_exists(word_without.lower()):\n",
        "                  item = item.replace((first_half + \"- \" + original_second_half), first_half + original_second_half, 1)\n",
        "              else:\n",
        "                  item = item.replace((first_half + \"- \" + original_second_half), first_half + \"-\" + original_second_half, 1)\n",
        "            except:\n",
        "              pass\n",
        "            count -= 1\n",
        "        processed.append(item)\n",
        "    return processed\n",
        "\n",
        "\n",
        "def preprocess(text):\n",
        "    \"\"\"Returns text after preprocessing\n",
        "    :param text: str text to preprocess\n",
        "    :return: str text after preprocessing\"\"\"\n",
        "    # If row comprises just any of words like caution, warning, note, etc. remove them\n",
        "    if text.lower() in [\"caution\", \"note\", \"warning\", \"danger\", \"— —\", \"-\", \",\", \".\", \"•\", \"—\"]: return None\n",
        "    # If row comprises of words like 'C H A P T E R 5', remove them\n",
        "    if len(re.findall(r\"^c h a p t e r [0-9] *[0-9]*$\", text.lower())) > 0: return None\n",
        "    # If row does not contain any letter, remove them i.e, remove phone numbers, fax numbers, etc\n",
        "    if len(re.findall(r\"[^a-zA-Z]\", text)) == len(text): return None\n",
        "    # If row starts with section number e.g., 5.4.3 remove section number\n",
        "    if len(re.findall(r\"^[0-9]*\\.*[0-9]*\\.*[0-9]*\\.*[0-9]*\\.*[0-9]*\\.[0-9]$\", text.split()[0])) > 0:\n",
        "        text = \" \".join(text.split()[1:])\n",
        "    # Replace words like 'Mainten- ance' with 'Maintenance'\n",
        "    text = replace_incomplete_words([text])[0]\n",
        "    # Replace sentences where each word have an empty string ' ' between each letter\n",
        "    if text.count(\" \") > len(text) * 0.45:\n",
        "        sent = \"\"\n",
        "        for i in text.split(\"  \"):\n",
        "            word = \"\".join(i.split(\" \"))\n",
        "            sent = sent + word + \" \"\n",
        "        text = sent.strip()\n",
        "    return text"
      ],
      "execution_count": null,
      "outputs": []
    },
    {
      "cell_type": "code",
      "metadata": {
        "id": "3M5e4Q_vOtWU",
        "colab_type": "code",
        "colab": {}
      },
      "source": [
        "# Read content of 'dataset.txt' and preprocess it\n",
        "foo = open(\"dataset.txt\", \"r\")\n",
        "file_content = []\n",
        "for line in foo:\n",
        "  text = preprocess(line)\n",
        "  if text is not None:\n",
        "    file_content.append(text.replace(\"\\n\", \"\"))\n",
        "\n",
        "foo.close()"
      ],
      "execution_count": null,
      "outputs": []
    },
    {
      "cell_type": "code",
      "metadata": {
        "id": "zXP_mc4lPECN",
        "colab_type": "code",
        "colab": {
          "base_uri": "https://localhost:8080/",
          "height": 538
        },
        "outputId": "1cf3fff2-3078-4deb-f1cd-e4f53be0c9f0"
      },
      "source": [
        "file_content[:30]"
      ],
      "execution_count": null,
      "outputs": [
        {
          "output_type": "execute_result",
          "data": {
            "text/plain": [
              "['C',\n",
              " 'H',\n",
              " 'A',\n",
              " 'P',\n",
              " 'T',\n",
              " 'E',\n",
              " 'R',\n",
              " 'Introduction',\n",
              " 'This chapter describes the outline, purpose, and organization of this manual, and other information',\n",
              " 'necessary for using this manual. It also includes contact information and important notices.',\n",
              " 'About the Contents of This Manual 10377M.20140201',\n",
              " 'The manuals provided with this system include the information about the installation, operation, and',\n",
              " 'preventive maintenance for TEL manufactured equipment as well as its support equipment. Please',\n",
              " 'keep the manuals in a location close to the equipment so that it is easily accessible when it is needed.',\n",
              " 'Some of the manuals are separated into volumes according to purpose and contents and the users are',\n",
              " 'required to refer to other related manuals. Please use the manuals after understanding the content and',\n",
              " 'how to use each manual.',\n",
              " 'WARNING   General',\n",
              " 'Do not perform any tasks other than as described in this manual. TEL accepts no responsibility for dam-',\n",
              " 'age arising because the tasks were performed other than as described in this manual.  ',\n",
              " 'CAUTION   Equipment Damage',\n",
              " 'Failure to perform the tasks described in this manual may affect the normal operation of the equipment.  ',\n",
              " 'Perform all the tasks described in this manual.',\n",
              " 'NOTE   If there are any questions regarding the content of this manual, please contact',\n",
              " \"TEL's service center. The design of this tool is being researched and improved continuously so there\",\n",
              " 'may be differences in the appearance, instrumentation, and screens on your tool. This manual contains',\n",
              " 'the information on standard type.',\n",
              " 'NOTE   The original language of this manual is English. The TEL authorized editions of this',\n",
              " 'manual are the English edition and the Japanese edition. Other editions of this manual which are written',\n",
              " \"in any language other than English or Japanese are created for the user's convenience only. In the event\"]"
            ]
          },
          "metadata": {
            "tags": []
          },
          "execution_count": 5
        }
      ]
    },
    {
      "cell_type": "code",
      "metadata": {
        "id": "J1atAIKUFDea",
        "colab_type": "code",
        "colab": {}
      },
      "source": [
        "# Break down lines into sentences\n",
        "sent_detector = nltk.data.load('nltk:tokenizers/punkt/english.pickle')\n",
        "corpus = sent_detector.tokenize(\" \".join(file_content))"
      ],
      "execution_count": null,
      "outputs": []
    },
    {
      "cell_type": "code",
      "metadata": {
        "id": "M8BcAklCV7Ge",
        "colab_type": "code",
        "colab": {
          "base_uri": "https://localhost:8080/",
          "height": 558
        },
        "outputId": "d6cb4525-28eb-4a59-dff7-2d50daeec348"
      },
      "source": [
        "corpus[:30]"
      ],
      "execution_count": null,
      "outputs": [
        {
          "output_type": "execute_result",
          "data": {
            "text/plain": [
              "['C H A P T E R Introduction This chapter describes the outline, purpose, and organization of this manual, and other information necessary for using this manual.',\n",
              " 'It also includes contact information and important notices.',\n",
              " 'About the Contents of This Manual 10377M.20140201 The manuals provided with this system include the information about the installation, operation, and preventive maintenance for TEL manufactured equipment as well as its support equipment.',\n",
              " 'Please keep the manuals in a location close to the equipment so that it is easily accessible when it is needed.',\n",
              " 'Some of the manuals are separated into volumes according to purpose and contents and the users are required to refer to other related manuals.',\n",
              " 'Please use the manuals after understanding the content and how to use each manual.',\n",
              " 'WARNING   General Do not perform any tasks other than as described in this manual.',\n",
              " 'TEL accepts no responsibility for dam- age arising because the tasks were performed other than as described in this manual.',\n",
              " 'CAUTION   Equipment Damage Failure to perform the tasks described in this manual may affect the normal operation of the equipment.',\n",
              " 'Perform all the tasks described in this manual.',\n",
              " \"NOTE   If there are any questions regarding the content of this manual, please contact TEL's service center.\",\n",
              " 'The design of this tool is being researched and improved continuously so there may be differences in the appearance, instrumentation, and screens on your tool.',\n",
              " 'This manual contains the information on standard type.',\n",
              " 'NOTE   The original language of this manual is English.',\n",
              " 'The TEL authorized editions of this manual are the English edition and the Japanese edition.',\n",
              " \"Other editions of this manual which are written in any language other than English or Japanese are created for the user's convenience only.\",\n",
              " 'In the event of any discrepancy or conflict between the authorized editions of this manual and an edition of this man- ual which is written in any other language, the authorized editions shall prevail.',\n",
              " 'TEL Tactras RLSA™ Theory of Operation Manual Rev.',\n",
              " '3.2.1 [GRX] Before Operating the Equipment 00101M.20150801 WARNING   Chemical/Electric Shock/Mechanical Drive/Equipment Damage There is the possibility of serious injury, death, and tool damage if the equipment is used improperly.',\n",
              " 'The system is designed to process silicon wafers and should not be used for any other purpose.',\n",
              " 'WARNING   Strong Magnetic Field Units equipped with magnets generate a strong magnetic field that can adversely affect the operation of electronic medical implanted devices such as pacemakers.',\n",
              " 'People with pacemakers or other implanted medical electronic devices should maintain a safe distance of at least 1 m(3 ft) from units equipped with magnets.',\n",
              " 'CAUTION   Strong Magnetic Field Units equipped with magnets generate a strong magnetic field that can attract metal accessories and po- tentially cause bodily injury when pulled strongly to the magnets.',\n",
              " 'If you wear metal accessories such as body piercing or necklace, maintain a safe distance of at least 1 m(3 ft) from units equipped with mag- nets.',\n",
              " 'CAUTION   Equipment Damage Units equipped with magnets generate a strong magnetic field that can adversely affect objects suscepti- ble to magnetism (such as electronic devices and magnetic cards).',\n",
              " 'Do not place objects susceptible to magnetism (such as electronic devices and magnetic cards) near units equipped with magnets.',\n",
              " 'CAUTION   Equipment Damage Network in the equipment may be infected with a virus.',\n",
              " 'Do not connect to the free port of hub on the equipment.',\n",
              " 'To prevent loss or corruption of data and damage to the equipment due to improper operation and ensure safe operation of the system, this system has three equipment operation levels (normal opera- tion, process operation, and equipment operation) so that a user can access only the screens and func- tions that are allowed for the user, according to the operation level that has been assigned to the user according to his/her position, knowledge of the equipment, and skills.',\n",
              " 'Therefore, the manuals you should read vary according to your operation level.']"
            ]
          },
          "metadata": {
            "tags": []
          },
          "execution_count": 7
        }
      ]
    },
    {
      "cell_type": "code",
      "metadata": {
        "id": "C00c09j3GNUu",
        "colab_type": "code",
        "colab": {}
      },
      "source": [
        "def preprocess_corpus(corpus):\n",
        "  temp = []\n",
        "  for text in corpus:\n",
        "    text = text.replace(\"C H A P T E R\", \"Chapter\")\n",
        "    temp.append(text)\n",
        "  return temp"
      ],
      "execution_count": null,
      "outputs": []
    },
    {
      "cell_type": "code",
      "metadata": {
        "id": "IgAAmY09WIM0",
        "colab_type": "code",
        "colab": {
          "base_uri": "https://localhost:8080/",
          "height": 558
        },
        "outputId": "00900c44-0160-4387-d389-76596a414321"
      },
      "source": [
        "corpus = preprocess_corpus(corpus)\n",
        "corpus[:30]"
      ],
      "execution_count": null,
      "outputs": [
        {
          "output_type": "execute_result",
          "data": {
            "text/plain": [
              "['Chapter Introduction This chapter describes the outline, purpose, and organization of this manual, and other information necessary for using this manual.',\n",
              " 'It also includes contact information and important notices.',\n",
              " 'About the Contents of This Manual 10377M.20140201 The manuals provided with this system include the information about the installation, operation, and preventive maintenance for TEL manufactured equipment as well as its support equipment.',\n",
              " 'Please keep the manuals in a location close to the equipment so that it is easily accessible when it is needed.',\n",
              " 'Some of the manuals are separated into volumes according to purpose and contents and the users are required to refer to other related manuals.',\n",
              " 'Please use the manuals after understanding the content and how to use each manual.',\n",
              " 'WARNING   General Do not perform any tasks other than as described in this manual.',\n",
              " 'TEL accepts no responsibility for dam- age arising because the tasks were performed other than as described in this manual.',\n",
              " 'CAUTION   Equipment Damage Failure to perform the tasks described in this manual may affect the normal operation of the equipment.',\n",
              " 'Perform all the tasks described in this manual.',\n",
              " \"NOTE   If there are any questions regarding the content of this manual, please contact TEL's service center.\",\n",
              " 'The design of this tool is being researched and improved continuously so there may be differences in the appearance, instrumentation, and screens on your tool.',\n",
              " 'This manual contains the information on standard type.',\n",
              " 'NOTE   The original language of this manual is English.',\n",
              " 'The TEL authorized editions of this manual are the English edition and the Japanese edition.',\n",
              " \"Other editions of this manual which are written in any language other than English or Japanese are created for the user's convenience only.\",\n",
              " 'In the event of any discrepancy or conflict between the authorized editions of this manual and an edition of this man- ual which is written in any other language, the authorized editions shall prevail.',\n",
              " 'TEL Tactras RLSA™ Theory of Operation Manual Rev.',\n",
              " '3.2.1 [GRX] Before Operating the Equipment 00101M.20150801 WARNING   Chemical/Electric Shock/Mechanical Drive/Equipment Damage There is the possibility of serious injury, death, and tool damage if the equipment is used improperly.',\n",
              " 'The system is designed to process silicon wafers and should not be used for any other purpose.',\n",
              " 'WARNING   Strong Magnetic Field Units equipped with magnets generate a strong magnetic field that can adversely affect the operation of electronic medical implanted devices such as pacemakers.',\n",
              " 'People with pacemakers or other implanted medical electronic devices should maintain a safe distance of at least 1 m(3 ft) from units equipped with magnets.',\n",
              " 'CAUTION   Strong Magnetic Field Units equipped with magnets generate a strong magnetic field that can attract metal accessories and po- tentially cause bodily injury when pulled strongly to the magnets.',\n",
              " 'If you wear metal accessories such as body piercing or necklace, maintain a safe distance of at least 1 m(3 ft) from units equipped with mag- nets.',\n",
              " 'CAUTION   Equipment Damage Units equipped with magnets generate a strong magnetic field that can adversely affect objects suscepti- ble to magnetism (such as electronic devices and magnetic cards).',\n",
              " 'Do not place objects susceptible to magnetism (such as electronic devices and magnetic cards) near units equipped with magnets.',\n",
              " 'CAUTION   Equipment Damage Network in the equipment may be infected with a virus.',\n",
              " 'Do not connect to the free port of hub on the equipment.',\n",
              " 'To prevent loss or corruption of data and damage to the equipment due to improper operation and ensure safe operation of the system, this system has three equipment operation levels (normal opera- tion, process operation, and equipment operation) so that a user can access only the screens and func- tions that are allowed for the user, according to the operation level that has been assigned to the user according to his/her position, knowledge of the equipment, and skills.',\n",
              " 'Therefore, the manuals you should read vary according to your operation level.']"
            ]
          },
          "metadata": {
            "tags": []
          },
          "execution_count": 9
        }
      ]
    },
    {
      "cell_type": "markdown",
      "metadata": {
        "id": "o4FkUrwES84w",
        "colab_type": "text"
      },
      "source": [
        "# Start building the model"
      ]
    },
    {
      "cell_type": "code",
      "metadata": {
        "id": "Bqd4V4RHJQpE",
        "colab_type": "code",
        "colab": {
          "base_uri": "https://localhost:8080/",
          "height": 36
        },
        "outputId": "b3957c0d-7b25-4238-f810-ce411bda637a"
      },
      "source": [
        "# Let's start building the model\n",
        "%matplotlib inline\n",
        "import tensorflow as tf\n",
        "from tensorflow import keras\n",
        "from tensorflow.keras.models import Model\n",
        "from tensorflow.keras.layers import Input, LSTM, Dense, Embedding, Flatten, TimeDistributed, Dropout, LSTMCell, RNN, Bidirectional, Concatenate, Layer\n",
        "from tensorflow.keras.callbacks import ModelCheckpoint\n",
        "from tensorflow.python.keras.utils import tf_utils\n",
        "from tensorflow.keras import backend as K\n",
        "\n",
        "import unicodedata\n",
        "import re\n",
        "import numpy as np\n",
        "import os\n",
        "import time\n",
        "import shutil\n",
        "\n",
        "import pandas as pd\n",
        "import numpy as np\n",
        "import string, os \n",
        "tf.__version__"
      ],
      "execution_count": null,
      "outputs": [
        {
          "output_type": "execute_result",
          "data": {
            "application/vnd.google.colaboratory.intrinsic+json": {
              "type": "string"
            },
            "text/plain": [
              "'2.3.0'"
            ]
          },
          "metadata": {
            "tags": []
          },
          "execution_count": 10
        }
      ]
    },
    {
      "cell_type": "code",
      "metadata": {
        "id": "5tSB6_dKLpQF",
        "colab_type": "code",
        "colab": {}
      },
      "source": [
        "def generate_dataset(corpus):  \n",
        "    output = []\n",
        "    for line in corpus:\n",
        "        token_list = line\n",
        "        for i in range(1, len(token_list)):\n",
        "            data = []\n",
        "            x_ngram = '<start> '+ token_list[:i+1] + ' <end>'\n",
        "            y_ngram = '<start> '+ token_list[i+1:] + ' <end>'\n",
        "            data.append(x_ngram)\n",
        "            data.append(y_ngram)\n",
        "            output.append(data)\n",
        "    print(\"Dataset prepared with prefix and suffixes for teacher forcing technique\")\n",
        "    dummy_df = pd.DataFrame(output, columns=['input','output'])\n",
        "    return output, dummy_df          "
      ],
      "execution_count": null,
      "outputs": []
    },
    {
      "cell_type": "code",
      "metadata": {
        "id": "NULb3334MwCR",
        "colab_type": "code",
        "colab": {}
      },
      "source": [
        "class LanguageIndex():\n",
        "    def __init__(self, lang):\n",
        "        self.lang = lang\n",
        "        self.word2idx = {}\n",
        "        self.idx2word = {}\n",
        "        self.vocab = set()\n",
        "        self.create_index()\n",
        "    def create_index(self):\n",
        "        for phrase in self.lang:\n",
        "            self.vocab.update(phrase.split(' '))\n",
        "        self.vocab = sorted(self.vocab)\n",
        "        self.word2idx[\"<pad>\"] = 0\n",
        "        self.idx2word[0] = \"<pad>\"\n",
        "        for i,word in enumerate(self.vocab):\n",
        "            self.word2idx[word] = i + 1\n",
        "            self.idx2word[i+1] = word\n",
        "\n",
        "def max_length(t):\n",
        "    return max(len(i) for i in t)\n",
        "\n",
        "def load_dataset(corpus):\n",
        "    pairs, df = generate_dataset(corpus)\n",
        "    out_lang = LanguageIndex(sp for en, sp in pairs)\n",
        "    in_lang = LanguageIndex(en for en, sp in pairs)\n",
        "    input_data = [[in_lang.word2idx[s] for s in en.split(' ')] for en, sp in pairs]\n",
        "    output_data = [[out_lang.word2idx[s] for s in sp.split(' ')] for en, sp in pairs]\n",
        "    \n",
        "    max_length_in, max_length_out = max_length(input_data), max_length(output_data)\n",
        "    input_data = tf.keras.preprocessing.sequence.pad_sequences(input_data, maxlen=max_length_in, padding=\"post\")\n",
        "    output_data = tf.keras.preprocessing.sequence.pad_sequences(output_data, maxlen=max_length_out, padding=\"post\")\n",
        "    return input_data, output_data, in_lang, out_lang, max_length_in, max_length_out, df"
      ],
      "execution_count": null,
      "outputs": []
    },
    {
      "cell_type": "code",
      "metadata": {
        "id": "VUNfPsmMNB-B",
        "colab_type": "code",
        "colab": {
          "base_uri": "https://localhost:8080/",
          "height": 34
        },
        "outputId": "2053c44e-13f6-47af-e2d7-79db71d49f69"
      },
      "source": [
        "input_data, teacher_data, input_lang, target_lang, len_input, len_target, df = load_dataset(corpus)\n",
        "\n",
        "\n",
        "target_data = [[teacher_data[n][i+1] for i in range(len(teacher_data[n])-1)] for n in range(len(teacher_data))]\n",
        "target_data = tf.keras.preprocessing.sequence.pad_sequences(target_data, maxlen=len_target, padding=\"post\")\n",
        "target_data = target_data.reshape((target_data.shape[0], target_data.shape[1], 1))\n",
        "\n",
        "# Shuffle all of the data in unison. \n",
        "p = np.random.permutation(len(input_data))\n",
        "input_data = input_data[p]\n",
        "teacher_data = teacher_data[p]\n",
        "target_data = target_data[p]"
      ],
      "execution_count": null,
      "outputs": [
        {
          "output_type": "stream",
          "text": [
            "Dataset prepared with prefix and suffixes for teacher forcing technique\n"
          ],
          "name": "stdout"
        }
      ]
    },
    {
      "cell_type": "code",
      "metadata": {
        "id": "0785qQOORKf1",
        "colab_type": "code",
        "colab": {
          "base_uri": "https://localhost:8080/",
          "height": 591
        },
        "outputId": "480a610b-a276-4c9a-a5e8-758ad54d19a9"
      },
      "source": [
        "pd.set_option('display.max_colwidth', -1)\n",
        "BUFFER_SIZE = len(input_data)\n",
        "BATCH_SIZE = 64\n",
        "embedding_dim = 300\n",
        "units = 128\n",
        "vocab_in_size = len(input_lang.word2idx)\n",
        "vocab_out_size = len(target_lang.word2idx)\n",
        "df.iloc[60:70]"
      ],
      "execution_count": null,
      "outputs": [
        {
          "output_type": "stream",
          "text": [
            "/usr/local/lib/python3.6/dist-packages/ipykernel_launcher.py:1: FutureWarning: Passing a negative integer is deprecated in version 1.0 and will not be supported in future version. Instead, use None to not limit the column width.\n",
            "  \"\"\"Entry point for launching an IPython kernel.\n"
          ],
          "name": "stderr"
        },
        {
          "output_type": "execute_result",
          "data": {
            "text/html": [
              "<div>\n",
              "<style scoped>\n",
              "    .dataframe tbody tr th:only-of-type {\n",
              "        vertical-align: middle;\n",
              "    }\n",
              "\n",
              "    .dataframe tbody tr th {\n",
              "        vertical-align: top;\n",
              "    }\n",
              "\n",
              "    .dataframe thead th {\n",
              "        text-align: right;\n",
              "    }\n",
              "</style>\n",
              "<table border=\"1\" class=\"dataframe\">\n",
              "  <thead>\n",
              "    <tr style=\"text-align: right;\">\n",
              "      <th></th>\n",
              "      <th>input</th>\n",
              "      <th>output</th>\n",
              "    </tr>\n",
              "  </thead>\n",
              "  <tbody>\n",
              "    <tr>\n",
              "      <th>60</th>\n",
              "      <td>&lt;start&gt; Chapter Introduction This chapter describes the outline, purpo &lt;end&gt;</td>\n",
              "      <td>&lt;start&gt; se, and organization of this manual, and other information necessary for using this manual. &lt;end&gt;</td>\n",
              "    </tr>\n",
              "    <tr>\n",
              "      <th>61</th>\n",
              "      <td>&lt;start&gt; Chapter Introduction This chapter describes the outline, purpos &lt;end&gt;</td>\n",
              "      <td>&lt;start&gt; e, and organization of this manual, and other information necessary for using this manual. &lt;end&gt;</td>\n",
              "    </tr>\n",
              "    <tr>\n",
              "      <th>62</th>\n",
              "      <td>&lt;start&gt; Chapter Introduction This chapter describes the outline, purpose &lt;end&gt;</td>\n",
              "      <td>&lt;start&gt; , and organization of this manual, and other information necessary for using this manual. &lt;end&gt;</td>\n",
              "    </tr>\n",
              "    <tr>\n",
              "      <th>63</th>\n",
              "      <td>&lt;start&gt; Chapter Introduction This chapter describes the outline, purpose, &lt;end&gt;</td>\n",
              "      <td>&lt;start&gt;  and organization of this manual, and other information necessary for using this manual. &lt;end&gt;</td>\n",
              "    </tr>\n",
              "    <tr>\n",
              "      <th>64</th>\n",
              "      <td>&lt;start&gt; Chapter Introduction This chapter describes the outline, purpose,  &lt;end&gt;</td>\n",
              "      <td>&lt;start&gt; and organization of this manual, and other information necessary for using this manual. &lt;end&gt;</td>\n",
              "    </tr>\n",
              "    <tr>\n",
              "      <th>65</th>\n",
              "      <td>&lt;start&gt; Chapter Introduction This chapter describes the outline, purpose, a &lt;end&gt;</td>\n",
              "      <td>&lt;start&gt; nd organization of this manual, and other information necessary for using this manual. &lt;end&gt;</td>\n",
              "    </tr>\n",
              "    <tr>\n",
              "      <th>66</th>\n",
              "      <td>&lt;start&gt; Chapter Introduction This chapter describes the outline, purpose, an &lt;end&gt;</td>\n",
              "      <td>&lt;start&gt; d organization of this manual, and other information necessary for using this manual. &lt;end&gt;</td>\n",
              "    </tr>\n",
              "    <tr>\n",
              "      <th>67</th>\n",
              "      <td>&lt;start&gt; Chapter Introduction This chapter describes the outline, purpose, and &lt;end&gt;</td>\n",
              "      <td>&lt;start&gt;  organization of this manual, and other information necessary for using this manual. &lt;end&gt;</td>\n",
              "    </tr>\n",
              "    <tr>\n",
              "      <th>68</th>\n",
              "      <td>&lt;start&gt; Chapter Introduction This chapter describes the outline, purpose, and  &lt;end&gt;</td>\n",
              "      <td>&lt;start&gt; organization of this manual, and other information necessary for using this manual. &lt;end&gt;</td>\n",
              "    </tr>\n",
              "    <tr>\n",
              "      <th>69</th>\n",
              "      <td>&lt;start&gt; Chapter Introduction This chapter describes the outline, purpose, and o &lt;end&gt;</td>\n",
              "      <td>&lt;start&gt; rganization of this manual, and other information necessary for using this manual. &lt;end&gt;</td>\n",
              "    </tr>\n",
              "  </tbody>\n",
              "</table>\n",
              "</div>"
            ],
            "text/plain": [
              "                                                                                    input                                                                                                     output\n",
              "60  <start> Chapter Introduction This chapter describes the outline, purpo <end>           <start> se, and organization of this manual, and other information necessary for using this manual. <end>\n",
              "61  <start> Chapter Introduction This chapter describes the outline, purpos <end>          <start> e, and organization of this manual, and other information necessary for using this manual. <end> \n",
              "62  <start> Chapter Introduction This chapter describes the outline, purpose <end>         <start> , and organization of this manual, and other information necessary for using this manual. <end>  \n",
              "63  <start> Chapter Introduction This chapter describes the outline, purpose, <end>        <start>  and organization of this manual, and other information necessary for using this manual. <end>   \n",
              "64  <start> Chapter Introduction This chapter describes the outline, purpose,  <end>       <start> and organization of this manual, and other information necessary for using this manual. <end>    \n",
              "65  <start> Chapter Introduction This chapter describes the outline, purpose, a <end>      <start> nd organization of this manual, and other information necessary for using this manual. <end>     \n",
              "66  <start> Chapter Introduction This chapter describes the outline, purpose, an <end>     <start> d organization of this manual, and other information necessary for using this manual. <end>      \n",
              "67  <start> Chapter Introduction This chapter describes the outline, purpose, and <end>    <start>  organization of this manual, and other information necessary for using this manual. <end>       \n",
              "68  <start> Chapter Introduction This chapter describes the outline, purpose, and  <end>   <start> organization of this manual, and other information necessary for using this manual. <end>        \n",
              "69  <start> Chapter Introduction This chapter describes the outline, purpose, and o <end>  <start> rganization of this manual, and other information necessary for using this manual. <end>         "
            ]
          },
          "metadata": {
            "tags": []
          },
          "execution_count": 14
        }
      ]
    },
    {
      "cell_type": "code",
      "metadata": {
        "id": "pRdR_pFqVaIQ",
        "colab_type": "code",
        "colab": {
          "base_uri": "https://localhost:8080/",
          "height": 642
        },
        "outputId": "936dd395-e088-4bff-f19c-4c7dcdebe1b4"
      },
      "source": [
        "# Create the Encoder layers first.\n",
        "encoder_inputs = Input(shape=(len_input,))\n",
        "encoder_emb = Embedding(input_dim=vocab_in_size, output_dim=embedding_dim)\n",
        "\n",
        "# Create the Bidirectional LSTM\n",
        "encoder_lstm = Bidirectional(LSTM(units=units, return_sequences=True, return_state=True))\n",
        "encoder_out, fstate_h, fstate_c, bstate_h, bstate_c = encoder_lstm(encoder_emb(encoder_inputs))\n",
        "state_h = Concatenate()([fstate_h,bstate_h])\n",
        "state_c = Concatenate()([bstate_h,bstate_c])\n",
        "encoder_states = [state_h, state_c]\n",
        "\n",
        "\n",
        "# Now create the Decoder layers.\n",
        "decoder_inputs = Input(shape=(None,))\n",
        "decoder_emb = Embedding(input_dim=vocab_out_size, output_dim=embedding_dim)\n",
        "decoder_lstm = LSTM(units=units*2, return_sequences=True, return_state=True)\n",
        "decoder_lstm_out, _, _ = decoder_lstm(decoder_emb(decoder_inputs), initial_state=encoder_states)\n",
        "# Two dense layers added to this model to improve inference capabilities.\n",
        "decoder_d1 = Dense(units, activation=\"relu\")\n",
        "decoder_d2 = Dense(vocab_out_size, activation=\"softmax\")\n",
        "decoder_out = decoder_d2(Dropout(rate=.2)(decoder_d1(Dropout(rate=.2)(decoder_lstm_out))))\n",
        "\n",
        "\n",
        "# Finally, create a training model which combines the encoder and the decoder.\n",
        "# Note that this model has three inputs:\n",
        "model = Model(inputs = [encoder_inputs, decoder_inputs], outputs= decoder_out)\n",
        "\n",
        "# We'll use sparse_categorical_crossentropy so we don't have to expand decoder_out into a massive one-hot array.\n",
        "# Adam is used because it's, well, the best.\n",
        "model.compile(optimizer=tf.keras.optimizers.Adam(), loss=\"sparse_categorical_crossentropy\", metrics=['sparse_categorical_accuracy'])\n",
        "model.summary()"
      ],
      "execution_count": null,
      "outputs": [
        {
          "output_type": "stream",
          "text": [
            "Model: \"functional_1\"\n",
            "__________________________________________________________________________________________________\n",
            "Layer (type)                    Output Shape         Param #     Connected to                     \n",
            "==================================================================================================\n",
            "input_1 (InputLayer)            [(None, 362)]        0                                            \n",
            "__________________________________________________________________________________________________\n",
            "embedding (Embedding)           (None, 362, 300)     2477700     input_1[0][0]                    \n",
            "__________________________________________________________________________________________________\n",
            "input_2 (InputLayer)            [(None, None)]       0                                            \n",
            "__________________________________________________________________________________________________\n",
            "bidirectional (Bidirectional)   [(None, 362, 256), ( 439296      embedding[0][0]                  \n",
            "__________________________________________________________________________________________________\n",
            "embedding_1 (Embedding)         (None, None, 300)    2488800     input_2[0][0]                    \n",
            "__________________________________________________________________________________________________\n",
            "concatenate (Concatenate)       (None, 256)          0           bidirectional[0][1]              \n",
            "                                                                 bidirectional[0][3]              \n",
            "__________________________________________________________________________________________________\n",
            "concatenate_1 (Concatenate)     (None, 256)          0           bidirectional[0][3]              \n",
            "                                                                 bidirectional[0][4]              \n",
            "__________________________________________________________________________________________________\n",
            "lstm_1 (LSTM)                   [(None, None, 256),  570368      embedding_1[0][0]                \n",
            "                                                                 concatenate[0][0]                \n",
            "                                                                 concatenate_1[0][0]              \n",
            "__________________________________________________________________________________________________\n",
            "dropout_1 (Dropout)             (None, None, 256)    0           lstm_1[0][0]                     \n",
            "__________________________________________________________________________________________________\n",
            "dense (Dense)                   (None, None, 128)    32896       dropout_1[0][0]                  \n",
            "__________________________________________________________________________________________________\n",
            "dropout (Dropout)               (None, None, 128)    0           dense[0][0]                      \n",
            "__________________________________________________________________________________________________\n",
            "dense_1 (Dense)                 (None, None, 8296)   1070184     dropout[0][0]                    \n",
            "==================================================================================================\n",
            "Total params: 7,079,244\n",
            "Trainable params: 7,079,244\n",
            "Non-trainable params: 0\n",
            "__________________________________________________________________________________________________\n"
          ],
          "name": "stdout"
        }
      ]
    },
    {
      "cell_type": "code",
      "metadata": {
        "id": "zfxSjLCAY3qg",
        "colab_type": "code",
        "colab": {
          "base_uri": "https://localhost:8080/",
          "height": 402
        },
        "outputId": "8a2eb310-9ddd-4907-f7c2-a8e499137b9e"
      },
      "source": [
        "# Use 20% of our data for validation.\n",
        "epochs = 10\n",
        "history = model.fit([input_data, teacher_data], target_data,\n",
        "                 batch_size= BATCH_SIZE,\n",
        "                 epochs=epochs,\n",
        "                 validation_split=0.2)"
      ],
      "execution_count": null,
      "outputs": [
        {
          "output_type": "stream",
          "text": [
            "Epoch 1/10\n",
            "660/660 [==============================] - ETA: 0s - loss: 0.5669 - sparse_categorical_accuracy: 0.9296WARNING:tensorflow:Callbacks method `on_test_batch_end` is slow compared to the batch time (batch time: 0.0333s vs `on_test_batch_end` time: 0.2641s). Check your callbacks.\n",
            "660/660 [==============================] - 613s 929ms/step - loss: 0.5669 - sparse_categorical_accuracy: 0.9296 - val_loss: 0.1879 - val_sparse_categorical_accuracy: 0.9660\n",
            "Epoch 2/10\n",
            "660/660 [==============================] - 612s 927ms/step - loss: 0.1414 - sparse_categorical_accuracy: 0.9716 - val_loss: 0.0769 - val_sparse_categorical_accuracy: 0.9857\n",
            "Epoch 3/10\n",
            "660/660 [==============================] - 614s 931ms/step - loss: 0.0768 - sparse_categorical_accuracy: 0.9848 - val_loss: 0.0508 - val_sparse_categorical_accuracy: 0.9910\n",
            "Epoch 4/10\n",
            "660/660 [==============================] - 615s 931ms/step - loss: 0.0544 - sparse_categorical_accuracy: 0.9896 - val_loss: 0.0408 - val_sparse_categorical_accuracy: 0.9931\n",
            "Epoch 5/10\n",
            "660/660 [==============================] - 616s 933ms/step - loss: 0.0429 - sparse_categorical_accuracy: 0.9919 - val_loss: 0.0347 - val_sparse_categorical_accuracy: 0.9940\n",
            "Epoch 6/10\n",
            "660/660 [==============================] - 614s 931ms/step - loss: 0.0358 - sparse_categorical_accuracy: 0.9932 - val_loss: 0.0307 - val_sparse_categorical_accuracy: 0.9946\n",
            "Epoch 7/10\n",
            "660/660 [==============================] - 614s 930ms/step - loss: 0.0306 - sparse_categorical_accuracy: 0.9941 - val_loss: 0.0277 - val_sparse_categorical_accuracy: 0.9951\n",
            "Epoch 8/10\n",
            "660/660 [==============================] - 614s 930ms/step - loss: 0.0265 - sparse_categorical_accuracy: 0.9948 - val_loss: 0.0253 - val_sparse_categorical_accuracy: 0.9956\n",
            "Epoch 9/10\n",
            "660/660 [==============================] - 614s 930ms/step - loss: 0.0231 - sparse_categorical_accuracy: 0.9954 - val_loss: 0.0230 - val_sparse_categorical_accuracy: 0.9960\n",
            "Epoch 10/10\n",
            "660/660 [==============================] - 614s 930ms/step - loss: 0.0201 - sparse_categorical_accuracy: 0.9959 - val_loss: 0.0211 - val_sparse_categorical_accuracy: 0.9964\n"
          ],
          "name": "stdout"
        }
      ]
    },
    {
      "cell_type": "code",
      "metadata": {
        "id": "5sCTcGDQaEl9",
        "colab_type": "code",
        "colab": {
          "base_uri": "https://localhost:8080/",
          "height": 265
        },
        "outputId": "5c8c4c49-3e40-4db9-c5c3-37ace44aed52"
      },
      "source": [
        "# Plot the results of the training.\n",
        "import matplotlib.pyplot as plt\n",
        "\n",
        "plt.plot(history.history['loss'], label=\"Training loss\")\n",
        "plt.plot(history.history['val_loss'], label=\"Validation loss\")\n",
        "plt.show()"
      ],
      "execution_count": null,
      "outputs": [
        {
          "output_type": "display_data",
          "data": {
            "image/png": "[encoded data removed]",
            "text/plain": [
              "<Figure size 432x288 with 1 Axes>"
            ]
          },
          "metadata": {
            "tags": [],
            "needs_background": "light"
          }
        }
      ]
    },
    {
      "cell_type": "code",
      "metadata": {
        "id": "H1FZHiMDjIlH",
        "colab_type": "code",
        "colab": {}
      },
      "source": [
        "# Create the encoder model from the tensors we previously declared.\n",
        "encoder_model = Model(encoder_inputs, [encoder_out, state_h, state_c])\n",
        "\n",
        "# Generate a new set of tensors for our new inference decoder. Note that we are using new tensors, \n",
        "# this does not preclude using the same underlying layers that we trained on. (e.g. weights/biases).\n",
        "\n",
        "inf_decoder_inputs = Input(shape=(None,), name=\"inf_decoder_inputs\")\n",
        "# We'll need to force feed the two state variables into the decoder each step.\n",
        "state_input_h = Input(shape=(units*2,), name=\"state_input_h\")\n",
        "state_input_c = Input(shape=(units*2,), name=\"state_input_c\")\n",
        "decoder_res, decoder_h, decoder_c = decoder_lstm(\n",
        "    decoder_emb(inf_decoder_inputs), \n",
        "    initial_state=[state_input_h, state_input_c])\n",
        "inf_decoder_out = decoder_d2(decoder_d1(decoder_res))\n",
        "inf_model = Model(inputs=[inf_decoder_inputs, state_input_h, state_input_c], \n",
        "                  outputs=[inf_decoder_out, decoder_h, decoder_c])"
      ],
      "execution_count": null,
      "outputs": []
    },
    {
      "cell_type": "code",
      "metadata": {
        "id": "Nl1j-sPul7nv",
        "colab_type": "code",
        "colab": {}
      },
      "source": [
        "# Converts the given sentence (just a string) into a vector of word IDs\n",
        "# Output is 1-D: [timesteps/words]\n",
        "\n",
        "def sentence_to_vector(sentence, lang):\n",
        "\n",
        "    pre = sentence\n",
        "    vec = np.zeros(len_input)\n",
        "    sentence_list = [lang.word2idx[s] for s in pre.split(' ')]\n",
        "    for i,w in enumerate(sentence_list):\n",
        "        vec[i] = w\n",
        "    return vec\n",
        "\n",
        "# Given an input string, an encoder model (infenc_model) and a decoder model (infmodel),\n",
        "def translate(input_sentence, infenc_model, infmodel):\n",
        "    sv = sentence_to_vector(input_sentence, input_lang)\n",
        "    sv = sv.reshape(1,len(sv))\n",
        "    [emb_out, sh, sc] = infenc_model.predict(x=sv)\n",
        "    \n",
        "    i = 0\n",
        "    start_vec = target_lang.word2idx[\"<start>\"]\n",
        "    stop_vec = target_lang.word2idx[\"<end>\"]\n",
        "    \n",
        "    cur_vec = np.zeros((1,1))\n",
        "    cur_vec[0,0] = start_vec\n",
        "    cur_word = \"<start>\"\n",
        "    output_sentence = \"\"\n",
        "\n",
        "    while cur_word != \"<end>\" and i < (len_target-1):\n",
        "        i += 1\n",
        "        if cur_word != \"<start>\":\n",
        "            output_sentence = output_sentence + \" \" + cur_word\n",
        "        x_in = [cur_vec, sh, sc]\n",
        "        [nvec, sh, sc] = infmodel.predict(x=x_in)\n",
        "        cur_vec[0,0] = np.argmax(nvec[0,0])\n",
        "        cur_word = target_lang.idx2word[np.argmax(nvec[0,0])]\n",
        "    return output_sentence"
      ],
      "execution_count": null,
      "outputs": []
    },
    {
      "cell_type": "code",
      "metadata": {
        "id": "Vi5K270pl9HP",
        "colab_type": "code",
        "colab": {
          "base_uri": "https://localhost:8080/",
          "height": 209
        },
        "outputId": "881db212-ef1d-4bf2-c537-4b5a30b963fb"
      },
      "source": [
        "#Note that only words that we've trained the model on will be available, otherwise you'll get an error.\n",
        "\n",
        "\n",
        "test = [\n",
        "    'the phrase process execution',\n",
        "    'theory of',\n",
        "    'characteristics of the',\n",
        "    'process module',\n",
        "]\n",
        "  \n",
        "\n",
        "import pandas as pd\n",
        "output = []  \n",
        "for t in test:  \n",
        "  output.append({\"Input seq\":t.lower(), \"Pred. Seq\":translate(t.lower(), encoder_model, inf_model)})\n",
        "\n",
        "results_df = pd.DataFrame.from_dict(output) \n",
        "results_df.head(len(test))"
      ],
      "execution_count": null,
      "outputs": [
        {
          "output_type": "execute_result",
          "data": {
            "text/html": [
              "<div>\n",
              "<style scoped>\n",
              "    .dataframe tbody tr th:only-of-type {\n",
              "        vertical-align: middle;\n",
              "    }\n",
              "\n",
              "    .dataframe tbody tr th {\n",
              "        vertical-align: top;\n",
              "    }\n",
              "\n",
              "    .dataframe thead th {\n",
              "        text-align: right;\n",
              "    }\n",
              "</style>\n",
              "<table border=\"1\" class=\"dataframe\">\n",
              "  <thead>\n",
              "    <tr style=\"text-align: right;\">\n",
              "      <th></th>\n",
              "      <th>Input seq</th>\n",
              "      <th>Pred. Seq</th>\n",
              "    </tr>\n",
              "  </thead>\n",
              "  <tbody>\n",
              "    <tr>\n",
              "      <th>0</th>\n",
              "      <td>the phrase process execution</td>\n",
              "      <td>on the Reference for Customer Options Maintenance Manual Safety Manual and Safety and Environmental Guidelines c_opsmaintprocessdoc_kai_e CAUTION   General TEL provides TEL Safety and Environmental Guidelines and Safety Manuals to establish a basic knowl- edge of important safety and environmental concerns.</td>\n",
              "    </tr>\n",
              "    <tr>\n",
              "      <th>1</th>\n",
              "      <td>theory of</td>\n",
              "      <td>the process manuals are separated into volumes according to purpose and contents and the users are required to refer to other related manuals.</td>\n",
              "    </tr>\n",
              "    <tr>\n",
              "      <th>2</th>\n",
              "      <td>characteristics of the</td>\n",
              "      <td>the process module and the process chamber.</td>\n",
              "    </tr>\n",
              "    <tr>\n",
              "      <th>3</th>\n",
              "      <td>process module</td>\n",
              "      <td>the dielectric plate and the ESC is called the gap, the distance of which cannot be changed.</td>\n",
              "    </tr>\n",
              "  </tbody>\n",
              "</table>\n",
              "</div>"
            ],
            "text/plain": [
              "                      Input seq                                                                                                                                                                                                                                                                                                               Pred. Seq\n",
              "0  the phrase process execution    on the Reference for Customer Options Maintenance Manual Safety Manual and Safety and Environmental Guidelines c_opsmaintprocessdoc_kai_e CAUTION   General TEL provides TEL Safety and Environmental Guidelines and Safety Manuals to establish a basic knowl- edge of important safety and environmental concerns.\n",
              "1  theory of                       the process manuals are separated into volumes according to purpose and contents and the users are required to refer to other related manuals.                                                                                                                                                                      \n",
              "2  characteristics of the          the process module and the process chamber.                                                                                                                                                                                                                                                                         \n",
              "3  process module                  the dielectric plate and the ESC is called the gap, the distance of which cannot be changed.                                                                                                                                                                                                                        "
            ]
          },
          "metadata": {
            "tags": []
          },
          "execution_count": 25
        }
      ]
    },
    {
      "cell_type": "code",
      "metadata": {
        "id": "3vK5lhBpmHmo",
        "colab_type": "code",
        "colab": {}
      },
      "source": [
        "# This is to save the model for the web app to use for generation\n",
        "from keras.models import model_from_json\n",
        "from keras.models import load_model\n",
        "\n",
        "# serialize model to JSON\n",
        "#  the keras model which is trained is defined as 'model' in this example\n",
        "model_json = inf_model.to_json()\n",
        "\n",
        "\n",
        "with open(\"./sample_data/model_num.json\", \"w\") as json_file:\n",
        "    json_file.write(model_json)\n",
        "\n",
        "# serialize weights to HDF5\n",
        "inf_model.save_weights(\"./sample_data/model_num.h5\")"
      ],
      "execution_count": null,
      "outputs": []
    }
  ]
}